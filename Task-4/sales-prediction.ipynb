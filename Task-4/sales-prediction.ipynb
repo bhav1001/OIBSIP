import pandas as pd
import matplotlib.pyplot as plt
from sklearn.model_selection import train_test_split
from sklearn.linear_model import LinearRegression
from sklearn.metrics import mean_squared_error, r2_score

data = pd.read_csv('C:\\Users\\bhavy\\Downloads\\Advertising.csv')

print(data.head())

print(data.columns)

X = data[['TV', 'Radio', 'Newspaper']]
y = data['Sales'] 

X_train, X_test, y_train, y_test = train_test_split(X, y, test_size=0.2, random_state=42)

model = LinearRegression()

model.fit(X_train, y_train)

y_pred = model.predict(X_test)

mse = mean_squared_error(y_test, y_pred)
print(f'Mean Squared Error: {mse}')

r2 = r2_score(y_test, y_pred)
print(f'R-squared: {r2}')

plt.scatter(y_test, y_pred)
plt.xlabel('Actual Sales')
plt.ylabel('Predicted Sales')
plt.title('Actual vs Predicted Sales')
plt.show()

# Example new data for prediction
new_data = pd.DataFrame({
    'TV': [1000],  
    'Radio': [1000],
    'Newspaper': [1000]
})


new_sales_pred = model.predict(new_data)
print(f'Predicted Sales: {new_sales_pred[0]}')
